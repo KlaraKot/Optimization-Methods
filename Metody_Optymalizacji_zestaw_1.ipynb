{
 "cells": [
  {
   "cell_type": "markdown",
   "metadata": {},
   "source": [
    "MO zadania zestaw 1"
   ]
  },
  {
   "cell_type": "markdown",
   "metadata": {},
   "source": [
    "zadanie 1: Napisz jednoargumentową funkcję w Pythonie, która będzie zwracać true, gdy liczba podana jako argument będzie pierwsza lub false w przeciwnym wypadku. Używając tej funkcji napisz list comprehention, które wygeneruje tablicę liczb pierwszych mniejszych od 100. Wskazówka: range(100) zwóci generator liczb od 0 do 99 włącznie."
   ]
  },
  {
   "cell_type": "code",
   "execution_count": 14,
   "metadata": {},
   "outputs": [],
   "source": [
    "def isPrime(number):\n",
    "    flag = True\n",
    "\n",
    "    if number > 1:\n",
    "        for i in range(2, number):\n",
    "            if (number % i) == 0:\n",
    "                flag = False\n",
    "\n",
    "                break\n",
    "    return flag"
   ]
  },
  {
   "cell_type": "code",
   "execution_count": 15,
   "metadata": {},
   "outputs": [
    {
     "name": "stdout",
     "output_type": "stream",
     "text": [
      "{0, 1, 2, 3, 5, 7, 11, 13, 17, 19, 23, 29, 31, 37, 41, 43, 47, 53, 59, 61, 67, 71, 73, 79, 83, 89, 97}\n"
     ]
    }
   ],
   "source": [
    "print({ x for x in range(100) if isPrime(x) == True})"
   ]
  },
  {
   "cell_type": "markdown",
   "metadata": {},
   "source": [
    "zadanie 2: Napisz funkcję, która dla danej tablicy numpy'owej zwróci drugą największą wartość. (Mogą się przydać takie funkcje, jak np.max, czy np.where)"
   ]
  },
  {
   "cell_type": "code",
   "execution_count": 4,
   "metadata": {},
   "outputs": [],
   "source": [
    "import numpy as np\n",
    "array = np.array([3,6,4,9,33,55])\n",
    "\n",
    "def secondMax():\n",
    "    array = np.array([3,6,4,9,33,55])\n",
    "    x = np.max(array)\n",
    "    index = np.where(array == x)\n",
    "    array = np.delete(array, index)\n",
    "    result = np.max(array)\n",
    "    print(result)\n",
    "    \n",
    "#different methode\n",
    "i = np.unique(array)[-2]"
   ]
  },
  {
   "cell_type": "code",
   "execution_count": 5,
   "metadata": {},
   "outputs": [
    {
     "name": "stdout",
     "output_type": "stream",
     "text": [
      "33\n",
      "33\n"
     ]
    }
   ],
   "source": [
    "secondMax()\n",
    "print(i)"
   ]
  },
  {
   "cell_type": "markdown",
   "metadata": {},
   "source": [
    "zadanie 3: Napisz funkcję używającą numpy, która obliczy przybliżone odwrócenie macierzy korzystając z np.linalg.solve, które służy do rozwiązywania układów równań liniowych i macierzowych."
   ]
  },
  {
   "cell_type": "code",
   "execution_count": 10,
   "metadata": {},
   "outputs": [
    {
     "name": "stdout",
     "output_type": "stream",
     "text": [
      "0.030303030303030304\n"
     ]
    }
   ],
   "source": [
    "import numpy as np\n",
    "A = np.array([[1,-2,3],[-1,1,5],[-2,-1,1]])\n",
    "B = np.linalg.inv(A)\n",
    "print(np.linalg.det(B))"
   ]
  },
  {
   "cell_type": "markdown",
   "metadata": {},
   "source": [
    "zadanie 4: Używając broadcastingu napisz funkcję przyjmującą argument n, która wygeneruje tabliczkę mnożenia n na n w postaci tablicy numpy'owej."
   ]
  },
  {
   "cell_type": "code",
   "execution_count": 8,
   "metadata": {},
   "outputs": [],
   "source": [
    "import numpy as np\n"
   ]
  },
  {
   "cell_type": "code",
   "execution_count": 13,
   "metadata": {},
   "outputs": [
    {
     "name": "stdout",
     "output_type": "stream",
     "text": [
      "podaj n5\n",
      "[1 2 3 4]\n",
      "[[1]\n",
      " [2]\n",
      " [3]\n",
      " [4]]\n",
      "[[ 1  2  3  4]\n",
      " [ 2  4  6  8]\n",
      " [ 3  6  9 12]\n",
      " [ 4  8 12 16]]\n"
     ]
    }
   ],
   "source": [
    "n = int(input(\"podaj n\"))\n",
    "m=np.arange(1,n)\n",
    "print(m)\n",
    "q=m.reshape(-1,1)\n",
    "print(q)\n",
    "print(m*q)"
   ]
  },
  {
   "cell_type": "code",
   "execution_count": null,
   "metadata": {},
   "outputs": [],
   "source": []
  }
 ],
 "metadata": {
  "kernelspec": {
   "display_name": "Python 3",
   "language": "python",
   "name": "python3"
  },
  "language_info": {
   "codemirror_mode": {
    "name": "ipython",
    "version": 3
   },
   "file_extension": ".py",
   "mimetype": "text/x-python",
   "name": "python",
   "nbconvert_exporter": "python",
   "pygments_lexer": "ipython3",
   "version": "3.8.10"
  }
 },
 "nbformat": 4,
 "nbformat_minor": 4
}
