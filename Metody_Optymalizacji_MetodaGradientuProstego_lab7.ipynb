{
 "cells": [
  {
   "cell_type": "markdown",
   "metadata": {},
   "source": [
    "# Metoda gradientu prostego"
   ]
  },
  {
   "cell_type": "code",
   "execution_count": 76,
   "metadata": {},
   "outputs": [
    {
     "ename": "AttributeError",
     "evalue": "'int' object has no attribute 'all'",
     "output_type": "error",
     "traceback": [
      "\u001b[0;31m---------------------------------------------------------------------------\u001b[0m",
      "\u001b[0;31mAttributeError\u001b[0m                            Traceback (most recent call last)",
      "\u001b[0;32m<ipython-input-76-f1e47a960ca5>\u001b[0m in \u001b[0;36m<module>\u001b[0;34m\u001b[0m\n\u001b[1;32m     26\u001b[0m     \u001b[0;32mpass\u001b[0m\u001b[0;34m\u001b[0m\u001b[0;34m\u001b[0m\u001b[0m\n\u001b[1;32m     27\u001b[0m \u001b[0;34m\u001b[0m\u001b[0m\n\u001b[0;32m---> 28\u001b[0;31m \u001b[0mhistory\u001b[0m \u001b[0;34m=\u001b[0m \u001b[0mgradient_descent\u001b[0m\u001b[0;34m(\u001b[0m\u001b[0mgrad\u001b[0m\u001b[0;34m,\u001b[0m \u001b[0;36m5\u001b[0m\u001b[0;34m)\u001b[0m\u001b[0;34m\u001b[0m\u001b[0;34m\u001b[0m\u001b[0m\n\u001b[0m\u001b[1;32m     29\u001b[0m \u001b[0mhistory_val\u001b[0m \u001b[0;34m=\u001b[0m \u001b[0mfun\u001b[0m\u001b[0;34m(\u001b[0m\u001b[0mnp\u001b[0m\u001b[0;34m.\u001b[0m\u001b[0marray\u001b[0m\u001b[0;34m(\u001b[0m\u001b[0mhistory\u001b[0m\u001b[0;34m)\u001b[0m\u001b[0;34m)\u001b[0m\u001b[0;34m\u001b[0m\u001b[0;34m\u001b[0m\u001b[0m\n\u001b[1;32m     30\u001b[0m \u001b[0mx\u001b[0m \u001b[0;34m=\u001b[0m \u001b[0mnp\u001b[0m\u001b[0;34m.\u001b[0m\u001b[0mlinspace\u001b[0m\u001b[0;34m(\u001b[0m\u001b[0;34m-\u001b[0m\u001b[0;36m6\u001b[0m\u001b[0;34m,\u001b[0m \u001b[0;36m6\u001b[0m\u001b[0;34m,\u001b[0m \u001b[0;36m20\u001b[0m\u001b[0;34m)\u001b[0m\u001b[0;34m\u001b[0m\u001b[0;34m\u001b[0m\u001b[0m\n",
      "\u001b[0;32m<ipython-input-76-f1e47a960ca5>\u001b[0m in \u001b[0;36mgradient_descent\u001b[0;34m(grad, initial_x, alpha, eps, maxiter)\u001b[0m\n\u001b[1;32m     11\u001b[0m     \u001b[0msolutions\u001b[0m\u001b[0;34m=\u001b[0m\u001b[0mlist\u001b[0m\u001b[0;34m(\u001b[0m\u001b[0;34m)\u001b[0m\u001b[0;34m\u001b[0m\u001b[0;34m\u001b[0m\u001b[0m\n\u001b[1;32m     12\u001b[0m \u001b[0;34m\u001b[0m\u001b[0m\n\u001b[0;32m---> 13\u001b[0;31m     \u001b[0;32mwhile\u001b[0m \u001b[0mabs\u001b[0m\u001b[0;34m(\u001b[0m\u001b[0mgrad\u001b[0m\u001b[0;34m(\u001b[0m\u001b[0mcurrent_x\u001b[0m\u001b[0;34m)\u001b[0m\u001b[0;34m)\u001b[0m\u001b[0;34m.\u001b[0m\u001b[0mall\u001b[0m\u001b[0;34m(\u001b[0m\u001b[0;34m)\u001b[0m \u001b[0;34m>\u001b[0m \u001b[0meps\u001b[0m \u001b[0;32mand\u001b[0m \u001b[0miteration\u001b[0m \u001b[0;34m<\u001b[0m \u001b[0mmaxiter\u001b[0m\u001b[0;34m:\u001b[0m\u001b[0;34m\u001b[0m\u001b[0;34m\u001b[0m\u001b[0m\n\u001b[0m\u001b[1;32m     14\u001b[0m         \u001b[0mprevious_x\u001b[0m \u001b[0;34m=\u001b[0m \u001b[0mcurrent_x\u001b[0m\u001b[0;34m\u001b[0m\u001b[0;34m\u001b[0m\u001b[0m\n\u001b[1;32m     15\u001b[0m         \u001b[0mcurrent_x\u001b[0m \u001b[0;34m=\u001b[0m \u001b[0mcurrent_x\u001b[0m \u001b[0;34m-\u001b[0m \u001b[0malpha\u001b[0m \u001b[0;34m*\u001b[0m \u001b[0mgrad\u001b[0m\u001b[0;34m(\u001b[0m\u001b[0mprevious_x\u001b[0m\u001b[0;34m)\u001b[0m\u001b[0;34m\u001b[0m\u001b[0;34m\u001b[0m\u001b[0m\n",
      "\u001b[0;31mAttributeError\u001b[0m: 'int' object has no attribute 'all'"
     ]
    }
   ],
   "source": [
    "import numpy as np\n",
    "import matplotlib.pyplot as plt\n",
    "\n",
    "\n",
    "\n",
    "def gradient_descent(grad, initial_x, alpha=0.8, eps=1e-5, maxiter=1000):\n",
    "    current_x = initial_x\n",
    "    previous_step_size = 1\n",
    "    iteration = 0\n",
    "    previous_x=0\n",
    "    solutions=list()\n",
    "    \n",
    "    while abs(grad(current_x)) > eps and iteration < maxiter:\n",
    "        previous_x = current_x\n",
    "        current_x = current_x - alpha * grad(previous_x)\n",
    "        previous_step_size = abs(current_x - previous_x)\n",
    "        iteration = iteration + 1\n",
    "        solutions.append(current_x)\n",
    "    return solutions\n",
    "\n",
    "def fun(x):\n",
    "    return x**2.0 + x \n",
    "\n",
    "def grad(x):\n",
    "    return 2 * x + 1\n",
    "    pass\n",
    "\n",
    "history = gradient_descent(grad, 5)\n",
    "history_val = fun(np.array(history))\n",
    "x = np.linspace(-6, 6, 20)\n",
    "y = fun(x)\n",
    "plt.plot(x, y)\n",
    "plt.plot(history, history_val, '-o', c='red')\n",
    "\n",
    "\n",
    "\n"
   ]
  },
  {
   "cell_type": "markdown",
   "metadata": {},
   "source": [
    "# zadanie 2 "
   ]
  },
  {
   "cell_type": "code",
   "execution_count": 77,
   "metadata": {},
   "outputs": [],
   "source": [
    "def secret_function(x):\n",
    "    return 0.1*(x[0] ** 2) + 0.1*((x[1] - 2) ** 2) + 3*np.sin(0.1 * x[0] * x[1])"
   ]
  },
  {
   "cell_type": "code",
   "execution_count": 79,
   "metadata": {},
   "outputs": [
    {
     "name": "stderr",
     "output_type": "stream",
     "text": [
      "<ipython-input-77-d260e07e6007>:2: RuntimeWarning: overflow encountered in double_scalars\n",
      "  return 0.1*(x[0] ** 2) + 0.1*((x[1] - 2) ** 2) + 3*np.sin(0.1 * x[0] * x[1])\n",
      "<ipython-input-77-d260e07e6007>:2: RuntimeWarning: invalid value encountered in sin\n",
      "  return 0.1*(x[0] ** 2) + 0.1*((x[1] - 2) ** 2) + 3*np.sin(0.1 * x[0] * x[1])\n"
     ]
    },
    {
     "data": {
      "text/plain": [
       "<matplotlib.collections.PathCollection at 0x7fa1a4f43fd0>"
      ]
     },
     "execution_count": 79,
     "metadata": {},
     "output_type": "execute_result"
    },
    {
     "data": {
      "image/png": "[encoded data removed]",
      "text/plain": [
       "<Figure size 432x288 with 1 Axes>"
      ]
     },
     "metadata": {
      "needs_background": "light"
     },
     "output_type": "display_data"
    }
   ],
   "source": [
    "def central_difference(x, dx=0.01):\n",
    "    f_x = secret_function([x[0] + dx, x[1]])\n",
    "    f_y = secret_function([x[0], x[1]+dx])\n",
    "    f_x_y = secret_function(x)\n",
    "        \n",
    "    g1 = f_x - f_x_y/(dx)\n",
    "    g2 = f_y - f_x_y/(dx)\n",
    "    \n",
    "    ret = np.array([g1,g1])\n",
    "    return ret\n",
    "\n",
    "history = gradient_descent(central_difference,[9,2])\n",
    "a=[]\n",
    "b=[]\n",
    "for number in history:\n",
    "    a.append(number[0])\n",
    "    b.append(number[1])\n",
    "\n",
    "plt.scatter(a,b, color='red')\n",
    "\n",
    "history = gradient_descent(central_difference, [2,9])\n",
    "d=[]\n",
    "e=[]\n",
    "for number in history:\n",
    "    d.append(number[0])\n",
    "    e.append(number[1])\n",
    "\n",
    "\n",
    "plt.scatter(d,e ,color='blue')\n",
    "    \n",
    "    \n",
    "\n"
   ]
  },
  {
   "cell_type": "markdown",
   "metadata": {},
   "source": [
    "# zadanie 3"
   ]
  },
  {
   "cell_type": "markdown",
   "metadata": {},
   "source": [
    "The least-squares regression method is a technique commonly used in Regression Analysis. \n",
    "It is a mathematical method used to find the best fit line that represents the relationship \n",
    "between an independent and dependent variable. "
   ]
  },
  {
   "cell_type": "code",
   "execution_count": 12,
   "metadata": {},
   "outputs": [],
   "source": [
    "data = np.loadtxt(\"Documents/Optimization-Methods-main/Lab7/data.csv\", delimiter=',')"
   ]
  },
  {
   "cell_type": "code",
   "execution_count": 32,
   "metadata": {},
   "outputs": [
    {
     "name": "stdout",
     "output_type": "stream",
     "text": [
      "Coefficients\n",
      "1.2873573700109315 9.90860619032653\n"
     ]
    },
    {
     "data": {
      "image/png": "[encoded data removed]",
      "text/plain": [
       "<Figure size 432x288 with 1 Axes>"
      ]
     },
     "metadata": {
      "needs_background": "light"
     },
     "output_type": "display_data"
    }
   ],
   "source": [
    "# import the required module \n",
    "import matplotlib.pyplot as plt\n",
    "import pandas as pd\n",
    "import numpy as np\n",
    "df = pd.read_csv(\"Documents/Optimization-Methods-main/Lab7/data.csv\")\n",
    "df.head(10)\n",
    "#df['32.502345269453031']\n",
    "plt.scatter(df['32.502345269453031'], df['31.70700584656992'])\n",
    "\n",
    "X = df['32.502345269453031'].values\n",
    "Y = df['31.70700584656992'].values\n",
    "\n",
    "# Mean X and Y\n",
    "mean_x = np.mean(X)\n",
    "mean_y = np.mean(Y)\n",
    " \n",
    "# Total number of values\n",
    "n = len(X)\n",
    "\n",
    "# Using the formula to calculate 'm' and 'c'\n",
    "numer = 0\n",
    "denom = 0\n",
    "for i in range(n):\n",
    "    number += (X[i] - mean_x) * (Y[i] - mean_y)\n",
    "    denom += (X[i] - mean_x) ** 2\n",
    "    m = number / denom\n",
    "    c = mean_y - (m * mean_x)\n",
    " \n",
    "# Printing coefficients\n",
    "print(\"Coefficients\")\n",
    "print(m, c)\n",
    "\n",
    "\n",
    "max_x = np.max(X) + 10\n",
    "min_x = np.min(X) - 10\n",
    " \n",
    "# Calculating line values x and y\n",
    "x = np.linspace(min_x, max_x)\n",
    "y = c + m * x\n",
    " \n",
    "# Ploting Line\n",
    "plt.plot(x, y, color='#58b970')\n",
    "# Ploting Scatter Points\n",
    "plt.scatter(X, Y, c='#ef5423')\n",
    " \n",
    "plt.xlabel('X')\n",
    "plt.ylabel('Y')\n",
    "\n",
    "plt.show()"
   ]
  },
  {
   "cell_type": "code",
   "execution_count": 30,
   "metadata": {},
   "outputs": [
    {
     "name": "stdout",
     "output_type": "stream",
     "text": [
      "RMSE\n",
      "10.366794924638429\n"
     ]
    }
   ],
   "source": [
    "rmse = 0\n",
    "for i in range(n):\n",
    "    y_pred = c + m * X[i]\n",
    "    rmse += (Y[i] - y_pred) ** 2\n",
    "rmse = np.sqrt(rmse/n)\n",
    "print(\"RMSE\")\n",
    "print(rmse)\n"
   ]
  },
  {
   "cell_type": "code",
   "execution_count": 31,
   "metadata": {},
   "outputs": [
    {
     "name": "stdout",
     "output_type": "stream",
     "text": [
      "R2 Score\n",
      "0.5871609494806324\n"
     ]
    }
   ],
   "source": [
    "ss_tot = 0\n",
    "ss_res = 0\n",
    "for i in range(n):\n",
    "    y_pred = c + m * X[i]\n",
    "    ss_tot += (Y[i] - mean_y) ** 2\n",
    "    ss_res += (Y[i] - y_pred) ** 2\n",
    "r2 = 1 - (ss_res/ss_tot)\n",
    "print(\"R2 Score\")\n",
    "print(r2)\n"
   ]
  },
  {
   "cell_type": "code",
   "execution_count": 33,
   "metadata": {},
   "outputs": [],
   "source": []
  },
  {
   "cell_type": "code",
   "execution_count": null,
   "metadata": {},
   "outputs": [],
   "source": []
  }
 ],
 "metadata": {
  "kernelspec": {
   "display_name": "Python 3",
   "language": "python",
   "name": "python3"
  },
  "language_info": {
   "codemirror_mode": {
    "name": "ipython",
    "version": 3
   },
   "file_extension": ".py",
   "mimetype": "text/x-python",
   "name": "python",
   "nbconvert_exporter": "python",
   "pygments_lexer": "ipython3",
   "version": "3.8.10"
  }
 },
 "nbformat": 4,
 "nbformat_minor": 4
}
